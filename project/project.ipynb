{
 "cells": [
  {
   "cell_type": "code",
   "execution_count": 4,
   "metadata": {},
   "outputs": [],
   "source": [
    "import pandas as pd"
   ]
  },
  {
   "cell_type": "code",
   "execution_count": 5,
   "metadata": {},
   "outputs": [],
   "source": [
    "df = pd.read_csv('data_1.csv', low_memory=False)"
   ]
  },
  {
   "cell_type": "code",
   "execution_count": 6,
   "metadata": {},
   "outputs": [
    {
     "name": "stdout",
     "output_type": "stream",
     "text": [
      "<class 'pandas.core.frame.DataFrame'>\n",
      "RangeIndex: 1000000 entries, 0 to 999999\n",
      "Data columns (total 35 columns):\n",
      " #   Column        Non-Null Count    Dtype  \n",
      "---  ------        --------------    -----  \n",
      " 0   pkSeqID       1000000 non-null  int64  \n",
      " 1   stime         1000000 non-null  float64\n",
      " 2   flgs          1000000 non-null  object \n",
      " 3   proto         1000000 non-null  object \n",
      " 4   saddr         1000000 non-null  object \n",
      " 5   sport         999513 non-null   object \n",
      " 6   daddr         1000000 non-null  object \n",
      " 7   dport         999513 non-null   object \n",
      " 8   pkts          1000000 non-null  int64  \n",
      " 9   bytes         1000000 non-null  int64  \n",
      " 10  state         1000000 non-null  object \n",
      " 11  ltime         1000000 non-null  float64\n",
      " 12  seq           1000000 non-null  int64  \n",
      " 13  dur           1000000 non-null  float64\n",
      " 14  mean          1000000 non-null  float64\n",
      " 15  stddev        1000000 non-null  float64\n",
      " 16  smac          0 non-null        float64\n",
      " 17  dmac          0 non-null        float64\n",
      " 18  sum           1000000 non-null  float64\n",
      " 19  min           1000000 non-null  float64\n",
      " 20  max           1000000 non-null  float64\n",
      " 21  soui          0 non-null        float64\n",
      " 22  doui          0 non-null        float64\n",
      " 23  sco           0 non-null        float64\n",
      " 24  dco           0 non-null        float64\n",
      " 25  spkts         1000000 non-null  int64  \n",
      " 26  dpkts         1000000 non-null  int64  \n",
      " 27  sbytes        1000000 non-null  int64  \n",
      " 28  dbytes        1000000 non-null  int64  \n",
      " 29  rate          1000000 non-null  float64\n",
      " 30  srate         1000000 non-null  float64\n",
      " 31  drate         1000000 non-null  float64\n",
      " 32  attack        1000000 non-null  int64  \n",
      " 33  category      1000000 non-null  object \n",
      " 34  subcategory   1000000 non-null  object \n",
      "dtypes: float64(17), int64(9), object(9)\n",
      "memory usage: 267.0+ MB\n"
     ]
    }
   ],
   "source": [
    "df.info()"
   ]
  },
  {
   "cell_type": "code",
   "execution_count": 9,
   "metadata": {},
   "outputs": [],
   "source": [
    "head = df.head()"
   ]
  },
  {
   "cell_type": "code",
   "execution_count": null,
   "metadata": {},
   "outputs": [],
   "source": []
  }
 ],
 "metadata": {
  "kernelspec": {
   "display_name": "Python 3",
   "language": "python",
   "name": "python3"
  },
  "language_info": {
   "codemirror_mode": {
    "name": "ipython",
    "version": 3
   },
   "file_extension": ".py",
   "mimetype": "text/x-python",
   "name": "python",
   "nbconvert_exporter": "python",
   "pygments_lexer": "ipython3",
   "version": "3.10.7"
  }
 },
 "nbformat": 4,
 "nbformat_minor": 2
}
