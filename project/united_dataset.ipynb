{
 "cells": [
  {
   "cell_type": "code",
   "execution_count": 1,
   "metadata": {},
   "outputs": [],
   "source": [
    "import pandas as pd"
   ]
  },
  {
   "cell_type": "code",
   "execution_count": 2,
   "metadata": {},
   "outputs": [],
   "source": [
    "df = pd.read_csv('script/data_2.csv', low_memory=False)"
   ]
  },
  {
   "cell_type": "code",
   "execution_count": 3,
   "metadata": {},
   "outputs": [],
   "source": [
    "final = pd.DataFrame(columns=df.columns)"
   ]
  },
  {
   "cell_type": "code",
   "execution_count": 4,
   "metadata": {},
   "outputs": [
    {
     "name": "stdout",
     "output_type": "stream",
     "text": [
      "Reconnaissance    823632\n",
      "DoS               169840\n",
      "Normal              4941\n",
      "Theft               1587\n",
      "Name: category, dtype: int64\n",
      "Service_Scan         465357\n",
      "OS_Fingerprint       358275\n",
      "TCP                  140134\n",
      "HTTP                  29706\n",
      "Normal                 4941\n",
      "Keylogging             1469\n",
      "Data_Exfiltration       118\n",
      "Name: subcategory , dtype: int64\n"
     ]
    }
   ],
   "source": [
    "category_counts = df['category'].value_counts()\n",
    "print(category_counts)\n",
    "subcategory_counts = df['subcategory '].value_counts()\n",
    "print(subcategory_counts)"
   ]
  },
  {
   "cell_type": "code",
   "execution_count": 5,
   "metadata": {},
   "outputs": [],
   "source": [
    "selected = df[df['subcategory '] == 'OS_Fingerprint']\n",
    "filtered = selected.sample(n=min(len(selected), 20000), replace=True)\n",
    "final = pd.concat([final, filtered], ignore_index=True)"
   ]
  },
  {
   "cell_type": "code",
   "execution_count": 6,
   "metadata": {},
   "outputs": [],
   "source": [
    "selected = df[df['subcategory '] == 'Service_Scan']\n",
    "filtered = selected.sample(n=min(len(selected), 20000), replace=True)\n",
    "final = pd.concat([final, filtered], ignore_index=True)"
   ]
  },
  {
   "cell_type": "code",
   "execution_count": 7,
   "metadata": {},
   "outputs": [],
   "source": [
    "selected = df[df['subcategory '] == 'Normal']\n",
    "filtered = selected.sample(n=min(len(selected), 20000), replace=True)\n",
    "final = pd.concat([final, filtered], ignore_index=True)"
   ]
  },
  {
   "cell_type": "code",
   "execution_count": 8,
   "metadata": {},
   "outputs": [],
   "source": [
    "selected = df[df['subcategory '] == 'TCP']        # DoS tcp\n",
    "filtered = selected.sample(n=min(len(selected), 20000), replace=True)\n",
    "filtered['subcategory '].replace('TCP', 'TCP DoS', inplace=True)\n",
    "final = pd.concat([final, filtered], ignore_index=True)"
   ]
  },
  {
   "cell_type": "code",
   "execution_count": 9,
   "metadata": {},
   "outputs": [],
   "source": [
    "selected = df[df['subcategory '] == 'HTTP']    # DoS http\n",
    "filtered = selected.sample(n=min(len(selected), 20000), replace=True)\n",
    "filtered['subcategory '].replace('HTTP', 'HTTP DoS', inplace=True)\n",
    "final = pd.concat([final, filtered], ignore_index=True)"
   ]
  },
  {
   "cell_type": "code",
   "execution_count": 10,
   "metadata": {},
   "outputs": [],
   "source": [
    "selected = df[df['subcategory '] == 'Keylogging']\n",
    "filtered = selected.sample(n=min(len(selected), 20000), replace=True)\n",
    "final = pd.concat([final, filtered], ignore_index=True)"
   ]
  },
  {
   "cell_type": "code",
   "execution_count": 11,
   "metadata": {},
   "outputs": [],
   "source": [
    "selected = df[df['subcategory '] == 'Data_Exfiltration']\n",
    "filtered = selected.sample(n=min(len(selected), 20000), replace=True)\n",
    "final = pd.concat([final, filtered], ignore_index=True)"
   ]
  },
  {
   "cell_type": "code",
   "execution_count": 12,
   "metadata": {},
   "outputs": [
    {
     "name": "stdout",
     "output_type": "stream",
     "text": [
      "Reconnaissance    40000\n",
      "DoS               40000\n",
      "Normal             4941\n",
      "Theft              1587\n",
      "Name: category, dtype: int64\n",
      "OS_Fingerprint       20000\n",
      "Service_Scan         20000\n",
      "TCP DoS              20000\n",
      "HTTP DoS             20000\n",
      "Normal                4941\n",
      "Keylogging            1469\n",
      "Data_Exfiltration      118\n",
      "Name: subcategory , dtype: int64\n"
     ]
    }
   ],
   "source": [
    "category_counts = final['category'].value_counts()\n",
    "print(category_counts)\n",
    "subcategory_counts = final['subcategory '].value_counts()\n",
    "print(subcategory_counts)"
   ]
  },
  {
   "cell_type": "code",
   "execution_count": 13,
   "metadata": {},
   "outputs": [],
   "source": [
    "df = pd.read_csv('script/data_1.csv', low_memory=False)"
   ]
  },
  {
   "cell_type": "code",
   "execution_count": 14,
   "metadata": {},
   "outputs": [
    {
     "name": "stdout",
     "output_type": "stream",
     "text": [
      "Reconnaissance    998007\n",
      "Normal              1993\n",
      "Name: category, dtype: int64\n",
      "Service_Scan    998007\n",
      "Normal            1993\n",
      "Name: subcategory , dtype: int64\n"
     ]
    }
   ],
   "source": [
    "category_counts = df['category'].value_counts()\n",
    "print(category_counts)\n",
    "subcategory_counts = df['subcategory '].value_counts()\n",
    "print(subcategory_counts)"
   ]
  },
  {
   "cell_type": "code",
   "execution_count": 15,
   "metadata": {},
   "outputs": [],
   "source": [
    "selected = df[df['subcategory '] == 'Normal']\n",
    "filtered = selected.sample(n=min(len(selected), 20000), replace=True)\n",
    "final = pd.concat([final, filtered], ignore_index=True)"
   ]
  },
  {
   "cell_type": "code",
   "execution_count": 16,
   "metadata": {},
   "outputs": [
    {
     "name": "stdout",
     "output_type": "stream",
     "text": [
      "DoS       999964\n",
      "Normal        36\n",
      "Name: category, dtype: int64\n",
      "UDP       999964\n",
      "Normal        36\n",
      "Name: subcategory , dtype: int64\n"
     ]
    }
   ],
   "source": [
    "df = pd.read_csv('script/data_25.csv', low_memory=False)\n",
    "category_counts = df['category'].value_counts()\n",
    "print(category_counts)\n",
    "subcategory_counts = df['subcategory '].value_counts()\n",
    "print(subcategory_counts)"
   ]
  },
  {
   "cell_type": "code",
   "execution_count": 17,
   "metadata": {},
   "outputs": [],
   "source": [
    "selected = df[df['subcategory '] == 'UDP']\n",
    "filtered = selected.sample(n=min(len(selected), 20000), replace=True)\n",
    "filtered['subcategory '].replace('UDP', 'UDP DoS', inplace=True)\n",
    "final = pd.concat([final, filtered], ignore_index=True)"
   ]
  },
  {
   "cell_type": "code",
   "execution_count": 18,
   "metadata": {},
   "outputs": [
    {
     "name": "stdout",
     "output_type": "stream",
     "text": [
      "DDoS      999966\n",
      "Normal        34\n",
      "Name: category, dtype: int64\n",
      "TCP       999966\n",
      "Normal        34\n",
      "Name: subcategory , dtype: int64\n"
     ]
    }
   ],
   "source": [
    "df = pd.read_csv('script/data_53.csv', low_memory=False)\n",
    "category_counts = df['category'].value_counts()\n",
    "print(category_counts)\n",
    "subcategory_counts = df['subcategory '].value_counts()\n",
    "print(subcategory_counts)"
   ]
  },
  {
   "cell_type": "code",
   "execution_count": 19,
   "metadata": {},
   "outputs": [],
   "source": [
    "selected = df[df['subcategory '] == 'TCP']        # DDoS tcp\n",
    "filtered = selected.sample(n=min(len(selected), 20000), replace=True)\n",
    "filtered['subcategory '].replace('TCP', 'TCP DDoS', inplace=True)\n",
    "final = pd.concat([final, filtered], ignore_index=True)"
   ]
  },
  {
   "cell_type": "code",
   "execution_count": 20,
   "metadata": {},
   "outputs": [
    {
     "name": "stdout",
     "output_type": "stream",
     "text": [
      "DDoS      999965\n",
      "Normal        35\n",
      "Name: category, dtype: int64\n",
      "UDP       999965\n",
      "Normal        35\n",
      "Name: subcategory , dtype: int64\n"
     ]
    }
   ],
   "source": [
    "df = pd.read_csv('script/data_65.csv', low_memory=False)\n",
    "category_counts = df['category'].value_counts()\n",
    "print(category_counts)\n",
    "subcategory_counts = df['subcategory '].value_counts()\n",
    "print(subcategory_counts)"
   ]
  },
  {
   "cell_type": "code",
   "execution_count": 21,
   "metadata": {},
   "outputs": [],
   "source": [
    "selected = df[df['subcategory '] == 'UDP']        # DDoS udp\n",
    "filtered = selected.sample(n=min(len(selected), 20000), replace=True)\n",
    "filtered['subcategory '].replace('UDP', 'UDP DDoS', inplace=True)\n",
    "\n",
    "final = pd.concat([final, filtered], ignore_index=True)"
   ]
  },
  {
   "cell_type": "code",
   "execution_count": 22,
   "metadata": {},
   "outputs": [
    {
     "name": "stdout",
     "output_type": "stream",
     "text": [
      "DoS               60000\n",
      "Reconnaissance    40000\n",
      "DDoS              40000\n",
      "Normal             6934\n",
      "Theft              1587\n",
      "Name: category, dtype: int64\n",
      "OS_Fingerprint       20000\n",
      "Service_Scan         20000\n",
      "TCP DoS              20000\n",
      "HTTP DoS             20000\n",
      "UDP DoS              20000\n",
      "TCP DDoS             20000\n",
      "UDP DDoS             20000\n",
      "Normal                6934\n",
      "Keylogging            1469\n",
      "Data_Exfiltration      118\n",
      "Name: subcategory , dtype: int64\n"
     ]
    }
   ],
   "source": [
    "category_counts = final['category'].value_counts()\n",
    "print(category_counts)\n",
    "subcategory_counts = final['subcategory '].value_counts()\n",
    "print(subcategory_counts)"
   ]
  },
  {
   "cell_type": "code",
   "execution_count": 23,
   "metadata": {},
   "outputs": [],
   "source": [
    "final.to_csv('script/final.csv', index=False)"
   ]
  }
 ],
 "metadata": {
  "kernelspec": {
   "display_name": "myenv",
   "language": "python",
   "name": "myenv"
  }
 },
 "nbformat": 4,
 "nbformat_minor": 2
}
